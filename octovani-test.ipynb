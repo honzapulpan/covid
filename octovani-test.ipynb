{
 "cells": [
  {
   "cell_type": "code",
   "execution_count": 1,
   "id": "bbf7ed53-3f15-4919-a730-1fc8bf61fb36",
   "metadata": {},
   "outputs": [],
   "source": [
    "import pandas as pd\n",
    "import matplotlib.pyplot as plt\n",
    "import numpy as np\n",
    "import urllib.request\n",
    "import json\n",
    "import datetime as dt\n",
    "\n",
    "plt.style.use('ggplot')"
   ]
  },
  {
   "cell_type": "markdown",
   "id": "317469dd-3e08-4f28-ba82-02fbedc51403",
   "metadata": {},
   "source": [
    "Vypočítáme denní počet lidí s aktivním očkováním. Posltup je následující:\n",
    "- získáme denní počet uzavřených 2. dávek (1. v případě Johnosona)\n",
    "- sečteme za posledních 182 dní (tj. 6 měsíců) (61 dní, 2 měsíce v případě Johnsona)\n",
    "- přičteme boostery (3. dávky) mladší než 3 měsíce"
   ]
  },
  {
   "cell_type": "code",
   "execution_count": 2,
   "id": "4d9ed35e-de98-4b60-9246-e415a9df8545",
   "metadata": {},
   "outputs": [
    {
     "data": {
      "text/html": [
       "<div>\n",
       "<style scoped>\n",
       "    .dataframe tbody tr th:only-of-type {\n",
       "        vertical-align: middle;\n",
       "    }\n",
       "\n",
       "    .dataframe tbody tr th {\n",
       "        vertical-align: top;\n",
       "    }\n",
       "\n",
       "    .dataframe thead th {\n",
       "        text-align: right;\n",
       "    }\n",
       "</style>\n",
       "<table border=\"1\" class=\"dataframe\">\n",
       "  <thead>\n",
       "    <tr style=\"text-align: right;\">\n",
       "      <th></th>\n",
       "      <th>id</th>\n",
       "      <th>datum</th>\n",
       "      <th>vakcina</th>\n",
       "      <th>vakcina_kod</th>\n",
       "      <th>poradi_davky</th>\n",
       "      <th>vekova_skupina</th>\n",
       "      <th>pohlavi</th>\n",
       "      <th>pocet_davek</th>\n",
       "    </tr>\n",
       "  </thead>\n",
       "  <tbody>\n",
       "    <tr>\n",
       "      <th>73460</th>\n",
       "      <td>e40b22b1-a99c-4809-827a-10ffacaffa1f</td>\n",
       "      <td>2022-01-13</td>\n",
       "      <td>VAXZEVRIA</td>\n",
       "      <td>CO03</td>\n",
       "      <td>3</td>\n",
       "      <td>45-49</td>\n",
       "      <td>Z</td>\n",
       "      <td>1</td>\n",
       "    </tr>\n",
       "    <tr>\n",
       "      <th>73461</th>\n",
       "      <td>5828344c-4882-4b1d-b21b-aa69aaa7f5d1</td>\n",
       "      <td>2022-01-13</td>\n",
       "      <td>VAXZEVRIA</td>\n",
       "      <td>CO03</td>\n",
       "      <td>3</td>\n",
       "      <td>60-64</td>\n",
       "      <td>Z</td>\n",
       "      <td>1</td>\n",
       "    </tr>\n",
       "    <tr>\n",
       "      <th>73462</th>\n",
       "      <td>3d2370a5-2b7c-492d-8aa7-75b81504a548</td>\n",
       "      <td>2022-01-13</td>\n",
       "      <td>VAXZEVRIA</td>\n",
       "      <td>CO03</td>\n",
       "      <td>3</td>\n",
       "      <td>70-74</td>\n",
       "      <td>Z</td>\n",
       "      <td>2</td>\n",
       "    </tr>\n",
       "    <tr>\n",
       "      <th>73463</th>\n",
       "      <td>694a6936-fafe-417d-86c0-f0b7fa94d907</td>\n",
       "      <td>2022-01-13</td>\n",
       "      <td>VAXZEVRIA</td>\n",
       "      <td>CO03</td>\n",
       "      <td>3</td>\n",
       "      <td>75-79</td>\n",
       "      <td>M</td>\n",
       "      <td>3</td>\n",
       "    </tr>\n",
       "    <tr>\n",
       "      <th>73464</th>\n",
       "      <td>d3118734-8774-4945-96f1-76155635fb2d</td>\n",
       "      <td>2022-01-13</td>\n",
       "      <td>VAXZEVRIA</td>\n",
       "      <td>CO03</td>\n",
       "      <td>3</td>\n",
       "      <td>80+</td>\n",
       "      <td>Z</td>\n",
       "      <td>2</td>\n",
       "    </tr>\n",
       "  </tbody>\n",
       "</table>\n",
       "</div>"
      ],
      "text/plain": [
       "                                         id       datum    vakcina  \\\n",
       "73460  e40b22b1-a99c-4809-827a-10ffacaffa1f  2022-01-13  VAXZEVRIA   \n",
       "73461  5828344c-4882-4b1d-b21b-aa69aaa7f5d1  2022-01-13  VAXZEVRIA   \n",
       "73462  3d2370a5-2b7c-492d-8aa7-75b81504a548  2022-01-13  VAXZEVRIA   \n",
       "73463  694a6936-fafe-417d-86c0-f0b7fa94d907  2022-01-13  VAXZEVRIA   \n",
       "73464  d3118734-8774-4945-96f1-76155635fb2d  2022-01-13  VAXZEVRIA   \n",
       "\n",
       "      vakcina_kod  poradi_davky vekova_skupina pohlavi  pocet_davek  \n",
       "73460        CO03             3          45-49       Z            1  \n",
       "73461        CO03             3          60-64       Z            1  \n",
       "73462        CO03             3          70-74       Z            2  \n",
       "73463        CO03             3          75-79       M            3  \n",
       "73464        CO03             3            80+       Z            2  "
      ]
     },
     "metadata": {},
     "output_type": "display_data"
    }
   ],
   "source": [
    "url ='https://onemocneni-aktualne.mzcr.cz/api/v2/covid-19/ockovani-demografie.csv'\n",
    "df = pd.read_csv(url)\n",
    "df['datum'] = pd.to_datetime(df['datum'], errors='coerce')\n",
    "df['datum'] = df['datum'].dt.date\n",
    "display(df.tail())"
   ]
  },
  {
   "cell_type": "code",
   "execution_count": 3,
   "id": "b922ca64-4b03-4496-85f9-0339d0bb331b",
   "metadata": {},
   "outputs": [],
   "source": [
    "# všechno kromě Johnsona\n",
    "\n",
    "vax01 = df[( (df['vakcina_kod']=='CO01') |\n",
    "    (df['vakcina_kod']=='CO02') |\n",
    "    (df['vakcina_kod']=='CO03') |\n",
    "    (df['vakcina_kod']=='CO04') |            \n",
    "    (df['vakcina_kod']=='CO06')) & \n",
    "    (df['poradi_davky']==2)]\n",
    "\n",
    "vax01 = vax01.drop(['id', 'vakcina',  ### odstraneni prebytecnych sloupcu\n",
    "                    'vakcina_kod', 'vekova_skupina', \n",
    "                    'poradi_davky', 'pohlavi'], axis=1) \n",
    "vax01 = vax01.groupby(['datum']).sum()  ### secteni po datumech\n",
    "vax01 = vax01.rolling(min_periods=1, window=182).sum()  ### soucet poslednich 182 dni\n",
    "vax01 = vax01.reset_index()\n",
    "vax01.rename(columns={'datum': 'date', \n",
    "                   'pocet_davek': 'vax_active',}, inplace=True)"
   ]
  },
  {
   "cell_type": "code",
   "execution_count": 4,
   "id": "da11973a-db01-4506-94b1-5087bbc02daa",
   "metadata": {},
   "outputs": [
    {
     "data": {
      "text/html": [
       "<div>\n",
       "<style scoped>\n",
       "    .dataframe tbody tr th:only-of-type {\n",
       "        vertical-align: middle;\n",
       "    }\n",
       "\n",
       "    .dataframe tbody tr th {\n",
       "        vertical-align: top;\n",
       "    }\n",
       "\n",
       "    .dataframe thead th {\n",
       "        text-align: right;\n",
       "    }\n",
       "</style>\n",
       "<table border=\"1\" class=\"dataframe\">\n",
       "  <thead>\n",
       "    <tr style=\"text-align: right;\">\n",
       "      <th></th>\n",
       "      <th>date</th>\n",
       "      <th>vax_active</th>\n",
       "    </tr>\n",
       "  </thead>\n",
       "  <tbody>\n",
       "    <tr>\n",
       "      <th>368</th>\n",
       "      <td>2022-01-09</td>\n",
       "      <td>2536654.0</td>\n",
       "    </tr>\n",
       "    <tr>\n",
       "      <th>369</th>\n",
       "      <td>2022-01-10</td>\n",
       "      <td>2474774.0</td>\n",
       "    </tr>\n",
       "    <tr>\n",
       "      <th>370</th>\n",
       "      <td>2022-01-11</td>\n",
       "      <td>2413215.0</td>\n",
       "    </tr>\n",
       "    <tr>\n",
       "      <th>371</th>\n",
       "      <td>2022-01-12</td>\n",
       "      <td>2348555.0</td>\n",
       "    </tr>\n",
       "    <tr>\n",
       "      <th>372</th>\n",
       "      <td>2022-01-13</td>\n",
       "      <td>2288954.0</td>\n",
       "    </tr>\n",
       "  </tbody>\n",
       "</table>\n",
       "</div>"
      ],
      "text/plain": [
       "           date  vax_active\n",
       "368  2022-01-09   2536654.0\n",
       "369  2022-01-10   2474774.0\n",
       "370  2022-01-11   2413215.0\n",
       "371  2022-01-12   2348555.0\n",
       "372  2022-01-13   2288954.0"
      ]
     },
     "metadata": {},
     "output_type": "display_data"
    },
    {
     "data": {
      "text/plain": [
       "<AxesSubplot:>"
      ]
     },
     "execution_count": 4,
     "metadata": {},
     "output_type": "execute_result"
    },
    {
     "data": {
      "image/png": "[encoded data removed]",
      "text/plain": [
       "<Figure size 432x288 with 1 Axes>"
      ]
     },
     "metadata": {},
     "output_type": "display_data"
    }
   ],
   "source": [
    "display(vax01.tail())\n",
    "vax01.plot()"
   ]
  },
  {
   "cell_type": "code",
   "execution_count": 5,
   "id": "13bf9acc-bd28-4f06-a341-84f59a2c4f73",
   "metadata": {},
   "outputs": [],
   "source": [
    "# Johnson\n",
    "vax02 = df[(df['vakcina_kod']=='CO04')]\n",
    "\n",
    "vax02 = vax02.drop(['id', 'vakcina',  ### odstraneni prebytecnych sloupcu\n",
    "                    'vakcina_kod', 'vekova_skupina', \n",
    "                    'poradi_davky', 'pohlavi'], axis=1) \n",
    "vax02 = vax02.groupby(['datum']).sum()  ### secteni po datumech\n",
    "vax02 = vax02.rolling(min_periods=1, window=61).sum()  ### soucet poslednich 61 dni\n",
    "vax02 = vax02.reset_index()\n",
    "vax02.rename(columns={'datum': 'date', \n",
    "                   'pocet_davek': 'vax_active',}, inplace=True)"
   ]
  },
  {
   "cell_type": "code",
   "execution_count": 6,
   "id": "996e82ae-0b9c-4f37-aad1-3ab97fccab83",
   "metadata": {},
   "outputs": [
    {
     "data": {
      "text/html": [
       "<div>\n",
       "<style scoped>\n",
       "    .dataframe tbody tr th:only-of-type {\n",
       "        vertical-align: middle;\n",
       "    }\n",
       "\n",
       "    .dataframe tbody tr th {\n",
       "        vertical-align: top;\n",
       "    }\n",
       "\n",
       "    .dataframe thead th {\n",
       "        text-align: right;\n",
       "    }\n",
       "</style>\n",
       "<table border=\"1\" class=\"dataframe\">\n",
       "  <thead>\n",
       "    <tr style=\"text-align: right;\">\n",
       "      <th></th>\n",
       "      <th>date</th>\n",
       "      <th>vax_active</th>\n",
       "    </tr>\n",
       "  </thead>\n",
       "  <tbody>\n",
       "    <tr>\n",
       "      <th>296</th>\n",
       "      <td>2022-01-09</td>\n",
       "      <td>96142.0</td>\n",
       "    </tr>\n",
       "    <tr>\n",
       "      <th>297</th>\n",
       "      <td>2022-01-10</td>\n",
       "      <td>91836.0</td>\n",
       "    </tr>\n",
       "    <tr>\n",
       "      <th>298</th>\n",
       "      <td>2022-01-11</td>\n",
       "      <td>87370.0</td>\n",
       "    </tr>\n",
       "    <tr>\n",
       "      <th>299</th>\n",
       "      <td>2022-01-12</td>\n",
       "      <td>83595.0</td>\n",
       "    </tr>\n",
       "    <tr>\n",
       "      <th>300</th>\n",
       "      <td>2022-01-13</td>\n",
       "      <td>79469.0</td>\n",
       "    </tr>\n",
       "  </tbody>\n",
       "</table>\n",
       "</div>"
      ],
      "text/plain": [
       "           date  vax_active\n",
       "296  2022-01-09     96142.0\n",
       "297  2022-01-10     91836.0\n",
       "298  2022-01-11     87370.0\n",
       "299  2022-01-12     83595.0\n",
       "300  2022-01-13     79469.0"
      ]
     },
     "metadata": {},
     "output_type": "display_data"
    },
    {
     "data": {
      "text/plain": [
       "<AxesSubplot:>"
      ]
     },
     "execution_count": 6,
     "metadata": {},
     "output_type": "execute_result"
    },
    {
     "data": {
      "image/png": "[encoded data removed]",
      "text/plain": [
       "<Figure size 432x288 with 1 Axes>"
      ]
     },
     "metadata": {},
     "output_type": "display_data"
    }
   ],
   "source": [
    "display(vax02.tail())\n",
    "vax02.plot()"
   ]
  },
  {
   "cell_type": "code",
   "execution_count": 25,
   "id": "935b2bfe-ab6f-4be8-a1d7-8a143147a1be",
   "metadata": {},
   "outputs": [],
   "source": [
    "# Booster\n",
    "boost = df[df['poradi_davky']==3]\n",
    "\n",
    "boost = boost.drop(['id', 'vakcina',  ### odstraneni prebytecnych sloupcu\n",
    "                    'vakcina_kod', 'vekova_skupina', \n",
    "                    'poradi_davky', 'pohlavi'], axis=1) \n",
    "boost = boost.groupby(['datum']).sum()  ### secteni po datumech\n",
    "boost = boost.rolling(min_periods=1, window=91).sum()  ### soucet poslednich 182 dni\n",
    "boost = boost.reset_index()\n",
    "boost.rename(columns={'datum': 'date', \n",
    "                   'pocet_davek': 'vax_active',}, inplace=True)"
   ]
  },
  {
   "cell_type": "code",
   "execution_count": 26,
   "id": "610a31b5-ca9b-482a-8beb-ae3d06695e0a",
   "metadata": {},
   "outputs": [
    {
     "data": {
      "text/html": [
       "<div>\n",
       "<style scoped>\n",
       "    .dataframe tbody tr th:only-of-type {\n",
       "        vertical-align: middle;\n",
       "    }\n",
       "\n",
       "    .dataframe tbody tr th {\n",
       "        vertical-align: top;\n",
       "    }\n",
       "\n",
       "    .dataframe thead th {\n",
       "        text-align: right;\n",
       "    }\n",
       "</style>\n",
       "<table border=\"1\" class=\"dataframe\">\n",
       "  <thead>\n",
       "    <tr style=\"text-align: right;\">\n",
       "      <th></th>\n",
       "      <th>date</th>\n",
       "      <th>vax_active</th>\n",
       "    </tr>\n",
       "  </thead>\n",
       "  <tbody>\n",
       "    <tr>\n",
       "      <th>0</th>\n",
       "      <td>2021-07-20</td>\n",
       "      <td>1.0</td>\n",
       "    </tr>\n",
       "    <tr>\n",
       "      <th>1</th>\n",
       "      <td>2021-07-30</td>\n",
       "      <td>2.0</td>\n",
       "    </tr>\n",
       "    <tr>\n",
       "      <th>2</th>\n",
       "      <td>2021-08-08</td>\n",
       "      <td>3.0</td>\n",
       "    </tr>\n",
       "    <tr>\n",
       "      <th>3</th>\n",
       "      <td>2021-08-23</td>\n",
       "      <td>4.0</td>\n",
       "    </tr>\n",
       "    <tr>\n",
       "      <th>4</th>\n",
       "      <td>2021-08-25</td>\n",
       "      <td>5.0</td>\n",
       "    </tr>\n",
       "    <tr>\n",
       "      <th>...</th>\n",
       "      <td>...</td>\n",
       "      <td>...</td>\n",
       "    </tr>\n",
       "    <tr>\n",
       "      <th>125</th>\n",
       "      <td>2022-01-09</td>\n",
       "      <td>2844305.0</td>\n",
       "    </tr>\n",
       "    <tr>\n",
       "      <th>126</th>\n",
       "      <td>2022-01-10</td>\n",
       "      <td>2910386.0</td>\n",
       "    </tr>\n",
       "    <tr>\n",
       "      <th>127</th>\n",
       "      <td>2022-01-11</td>\n",
       "      <td>2982243.0</td>\n",
       "    </tr>\n",
       "    <tr>\n",
       "      <th>128</th>\n",
       "      <td>2022-01-12</td>\n",
       "      <td>3052402.0</td>\n",
       "    </tr>\n",
       "    <tr>\n",
       "      <th>129</th>\n",
       "      <td>2022-01-13</td>\n",
       "      <td>3118956.0</td>\n",
       "    </tr>\n",
       "  </tbody>\n",
       "</table>\n",
       "<p>130 rows × 2 columns</p>\n",
       "</div>"
      ],
      "text/plain": [
       "           date  vax_active\n",
       "0    2021-07-20         1.0\n",
       "1    2021-07-30         2.0\n",
       "2    2021-08-08         3.0\n",
       "3    2021-08-23         4.0\n",
       "4    2021-08-25         5.0\n",
       "..          ...         ...\n",
       "125  2022-01-09   2844305.0\n",
       "126  2022-01-10   2910386.0\n",
       "127  2022-01-11   2982243.0\n",
       "128  2022-01-12   3052402.0\n",
       "129  2022-01-13   3118956.0\n",
       "\n",
       "[130 rows x 2 columns]"
      ]
     },
     "execution_count": 26,
     "metadata": {},
     "output_type": "execute_result"
    },
    {
     "data": {
      "image/png": "[encoded data removed]",
      "text/plain": [
       "<Figure size 432x288 with 1 Axes>"
      ]
     },
     "metadata": {},
     "output_type": "display_data"
    }
   ],
   "source": [
    "\n",
    "boost.plot()\n",
    "boost"
   ]
  },
  {
   "cell_type": "code",
   "execution_count": 28,
   "id": "cc731c66-60d8-4c80-ac94-d0d288a3e333",
   "metadata": {},
   "outputs": [
    {
     "data": {
      "text/html": [
       "<div>\n",
       "<style scoped>\n",
       "    .dataframe tbody tr th:only-of-type {\n",
       "        vertical-align: middle;\n",
       "    }\n",
       "\n",
       "    .dataframe tbody tr th {\n",
       "        vertical-align: top;\n",
       "    }\n",
       "\n",
       "    .dataframe thead th {\n",
       "        text-align: right;\n",
       "    }\n",
       "</style>\n",
       "<table border=\"1\" class=\"dataframe\">\n",
       "  <thead>\n",
       "    <tr style=\"text-align: right;\">\n",
       "      <th></th>\n",
       "      <th>date</th>\n",
       "      <th>vax_active_x</th>\n",
       "      <th>vax_active_y</th>\n",
       "      <th>vax_active</th>\n",
       "    </tr>\n",
       "  </thead>\n",
       "  <tbody>\n",
       "    <tr>\n",
       "      <th>0</th>\n",
       "      <td>2020-12-29</td>\n",
       "      <td>1.0</td>\n",
       "      <td>0.0</td>\n",
       "      <td>0.0</td>\n",
       "    </tr>\n",
       "    <tr>\n",
       "      <th>1</th>\n",
       "      <td>2021-01-05</td>\n",
       "      <td>3.0</td>\n",
       "      <td>0.0</td>\n",
       "      <td>0.0</td>\n",
       "    </tr>\n",
       "    <tr>\n",
       "      <th>2</th>\n",
       "      <td>2021-01-06</td>\n",
       "      <td>4.0</td>\n",
       "      <td>0.0</td>\n",
       "      <td>0.0</td>\n",
       "    </tr>\n",
       "    <tr>\n",
       "      <th>3</th>\n",
       "      <td>2021-01-08</td>\n",
       "      <td>5.0</td>\n",
       "      <td>0.0</td>\n",
       "      <td>0.0</td>\n",
       "    </tr>\n",
       "    <tr>\n",
       "      <th>4</th>\n",
       "      <td>2021-01-09</td>\n",
       "      <td>6.0</td>\n",
       "      <td>0.0</td>\n",
       "      <td>0.0</td>\n",
       "    </tr>\n",
       "    <tr>\n",
       "      <th>...</th>\n",
       "      <td>...</td>\n",
       "      <td>...</td>\n",
       "      <td>...</td>\n",
       "      <td>...</td>\n",
       "    </tr>\n",
       "    <tr>\n",
       "      <th>368</th>\n",
       "      <td>2022-01-09</td>\n",
       "      <td>2536654.0</td>\n",
       "      <td>96142.0</td>\n",
       "      <td>2844305.0</td>\n",
       "    </tr>\n",
       "    <tr>\n",
       "      <th>369</th>\n",
       "      <td>2022-01-10</td>\n",
       "      <td>2474774.0</td>\n",
       "      <td>91836.0</td>\n",
       "      <td>2910386.0</td>\n",
       "    </tr>\n",
       "    <tr>\n",
       "      <th>370</th>\n",
       "      <td>2022-01-11</td>\n",
       "      <td>2413215.0</td>\n",
       "      <td>87370.0</td>\n",
       "      <td>2982243.0</td>\n",
       "    </tr>\n",
       "    <tr>\n",
       "      <th>371</th>\n",
       "      <td>2022-01-12</td>\n",
       "      <td>2348555.0</td>\n",
       "      <td>83595.0</td>\n",
       "      <td>3052402.0</td>\n",
       "    </tr>\n",
       "    <tr>\n",
       "      <th>372</th>\n",
       "      <td>2022-01-13</td>\n",
       "      <td>2288954.0</td>\n",
       "      <td>79469.0</td>\n",
       "      <td>3118956.0</td>\n",
       "    </tr>\n",
       "  </tbody>\n",
       "</table>\n",
       "<p>373 rows × 4 columns</p>\n",
       "</div>"
      ],
      "text/plain": [
       "           date  vax_active_x  vax_active_y  vax_active\n",
       "0    2020-12-29           1.0           0.0         0.0\n",
       "1    2021-01-05           3.0           0.0         0.0\n",
       "2    2021-01-06           4.0           0.0         0.0\n",
       "3    2021-01-08           5.0           0.0         0.0\n",
       "4    2021-01-09           6.0           0.0         0.0\n",
       "..          ...           ...           ...         ...\n",
       "368  2022-01-09     2536654.0       96142.0   2844305.0\n",
       "369  2022-01-10     2474774.0       91836.0   2910386.0\n",
       "370  2022-01-11     2413215.0       87370.0   2982243.0\n",
       "371  2022-01-12     2348555.0       83595.0   3052402.0\n",
       "372  2022-01-13     2288954.0       79469.0   3118956.0\n",
       "\n",
       "[373 rows x 4 columns]"
      ]
     },
     "execution_count": 28,
     "metadata": {},
     "output_type": "execute_result"
    }
   ],
   "source": [
    "vaxs = pd.merge(vax01, vax02, how='outer', on='date')\n",
    "vaxs = pd.merge(vaxs, boost, how='outer', on='date')\n",
    "vaxs = vaxs.fillna(0)\n",
    "vaxs"
   ]
  },
  {
   "cell_type": "code",
   "execution_count": 29,
   "id": "bae8722d-1cef-46b8-874c-f26b22675569",
   "metadata": {},
   "outputs": [],
   "source": [
    "vaxs['vaxs_active'] = vaxs['vax_active_x'] + vaxs['vax_active_y'] + vaxs['vax_active']\n",
    "vaxs = vaxs.drop(['vax_active_x', 'vax_active_y', 'vax_active', ], axis=1) "
   ]
  },
  {
   "cell_type": "code",
   "execution_count": 30,
   "id": "65b45ee2-95c1-4139-a952-ca92d855efd2",
   "metadata": {},
   "outputs": [
    {
     "data": {
      "text/html": [
       "<div>\n",
       "<style scoped>\n",
       "    .dataframe tbody tr th:only-of-type {\n",
       "        vertical-align: middle;\n",
       "    }\n",
       "\n",
       "    .dataframe tbody tr th {\n",
       "        vertical-align: top;\n",
       "    }\n",
       "\n",
       "    .dataframe thead th {\n",
       "        text-align: right;\n",
       "    }\n",
       "</style>\n",
       "<table border=\"1\" class=\"dataframe\">\n",
       "  <thead>\n",
       "    <tr style=\"text-align: right;\">\n",
       "      <th></th>\n",
       "      <th>date</th>\n",
       "      <th>vaxs_active</th>\n",
       "    </tr>\n",
       "  </thead>\n",
       "  <tbody>\n",
       "    <tr>\n",
       "      <th>368</th>\n",
       "      <td>2022-01-09</td>\n",
       "      <td>5477101.0</td>\n",
       "    </tr>\n",
       "    <tr>\n",
       "      <th>369</th>\n",
       "      <td>2022-01-10</td>\n",
       "      <td>5476996.0</td>\n",
       "    </tr>\n",
       "    <tr>\n",
       "      <th>370</th>\n",
       "      <td>2022-01-11</td>\n",
       "      <td>5482828.0</td>\n",
       "    </tr>\n",
       "    <tr>\n",
       "      <th>371</th>\n",
       "      <td>2022-01-12</td>\n",
       "      <td>5484552.0</td>\n",
       "    </tr>\n",
       "    <tr>\n",
       "      <th>372</th>\n",
       "      <td>2022-01-13</td>\n",
       "      <td>5487379.0</td>\n",
       "    </tr>\n",
       "  </tbody>\n",
       "</table>\n",
       "</div>"
      ],
      "text/plain": [
       "           date  vaxs_active\n",
       "368  2022-01-09    5477101.0\n",
       "369  2022-01-10    5476996.0\n",
       "370  2022-01-11    5482828.0\n",
       "371  2022-01-12    5484552.0\n",
       "372  2022-01-13    5487379.0"
      ]
     },
     "metadata": {},
     "output_type": "display_data"
    }
   ],
   "source": [
    "display(vaxs.tail())"
   ]
  },
  {
   "cell_type": "code",
   "execution_count": 31,
   "id": "ec25c9df-5237-4864-91bc-cc023aae5195",
   "metadata": {},
   "outputs": [
    {
     "data": {
      "text/plain": [
       "<AxesSubplot:>"
      ]
     },
     "execution_count": 31,
     "metadata": {},
     "output_type": "execute_result"
    },
    {
     "data": {
      "image/png": "[encoded data removed]",
      "text/plain": [
       "<Figure size 432x288 with 1 Axes>"
      ]
     },
     "metadata": {},
     "output_type": "display_data"
    }
   ],
   "source": [
    "vaxs.plot()"
   ]
  },
  {
   "cell_type": "code",
   "execution_count": 22,
   "id": "ffc3286e-4a1d-4135-921f-2a9817659d56",
   "metadata": {},
   "outputs": [
    {
     "data": {
      "text/plain": [
       "<AxesSubplot:>"
      ]
     },
     "execution_count": 22,
     "metadata": {},
     "output_type": "execute_result"
    },
    {
     "data": {
      "image/png": "[encoded data removed]",
      "text/plain": [
       "<Figure size 432x288 with 1 Axes>"
      ]
     },
     "metadata": {},
     "output_type": "display_data"
    }
   ],
   "source": [
    "vaxs.plot()"
   ]
  },
  {
   "cell_type": "code",
   "execution_count": 32,
   "id": "bf9684ed-a061-4e2a-a9e8-f8c5ea288fff",
   "metadata": {},
   "outputs": [
    {
     "data": {
      "text/html": [
       "<div>\n",
       "<style scoped>\n",
       "    .dataframe tbody tr th:only-of-type {\n",
       "        vertical-align: middle;\n",
       "    }\n",
       "\n",
       "    .dataframe tbody tr th {\n",
       "        vertical-align: top;\n",
       "    }\n",
       "\n",
       "    .dataframe thead th {\n",
       "        text-align: right;\n",
       "    }\n",
       "</style>\n",
       "<table border=\"1\" class=\"dataframe\">\n",
       "  <thead>\n",
       "    <tr style=\"text-align: right;\">\n",
       "      <th></th>\n",
       "      <th>date</th>\n",
       "      <th>vaxs_active</th>\n",
       "    </tr>\n",
       "  </thead>\n",
       "  <tbody>\n",
       "    <tr>\n",
       "      <th>0</th>\n",
       "      <td>2020-12-29</td>\n",
       "      <td>1.0</td>\n",
       "    </tr>\n",
       "    <tr>\n",
       "      <th>1</th>\n",
       "      <td>2021-01-05</td>\n",
       "      <td>3.0</td>\n",
       "    </tr>\n",
       "    <tr>\n",
       "      <th>2</th>\n",
       "      <td>2021-01-06</td>\n",
       "      <td>4.0</td>\n",
       "    </tr>\n",
       "    <tr>\n",
       "      <th>3</th>\n",
       "      <td>2021-01-08</td>\n",
       "      <td>5.0</td>\n",
       "    </tr>\n",
       "    <tr>\n",
       "      <th>4</th>\n",
       "      <td>2021-01-09</td>\n",
       "      <td>6.0</td>\n",
       "    </tr>\n",
       "    <tr>\n",
       "      <th>...</th>\n",
       "      <td>...</td>\n",
       "      <td>...</td>\n",
       "    </tr>\n",
       "    <tr>\n",
       "      <th>368</th>\n",
       "      <td>2022-01-09</td>\n",
       "      <td>5477101.0</td>\n",
       "    </tr>\n",
       "    <tr>\n",
       "      <th>369</th>\n",
       "      <td>2022-01-10</td>\n",
       "      <td>5476996.0</td>\n",
       "    </tr>\n",
       "    <tr>\n",
       "      <th>370</th>\n",
       "      <td>2022-01-11</td>\n",
       "      <td>5482828.0</td>\n",
       "    </tr>\n",
       "    <tr>\n",
       "      <th>371</th>\n",
       "      <td>2022-01-12</td>\n",
       "      <td>5484552.0</td>\n",
       "    </tr>\n",
       "    <tr>\n",
       "      <th>372</th>\n",
       "      <td>2022-01-13</td>\n",
       "      <td>5487379.0</td>\n",
       "    </tr>\n",
       "  </tbody>\n",
       "</table>\n",
       "<p>373 rows × 2 columns</p>\n",
       "</div>"
      ],
      "text/plain": [
       "           date  vaxs_active\n",
       "0    2020-12-29          1.0\n",
       "1    2021-01-05          3.0\n",
       "2    2021-01-06          4.0\n",
       "3    2021-01-08          5.0\n",
       "4    2021-01-09          6.0\n",
       "..          ...          ...\n",
       "368  2022-01-09    5477101.0\n",
       "369  2022-01-10    5476996.0\n",
       "370  2022-01-11    5482828.0\n",
       "371  2022-01-12    5484552.0\n",
       "372  2022-01-13    5487379.0\n",
       "\n",
       "[373 rows x 2 columns]"
      ]
     },
     "execution_count": 32,
     "metadata": {},
     "output_type": "execute_result"
    }
   ],
   "source": [
    "vaxs"
   ]
  },
  {
   "cell_type": "code",
   "execution_count": null,
   "id": "588cb351-29c7-48c7-aaf1-486f5ee78711",
   "metadata": {},
   "outputs": [],
   "source": []
  }
 ],
 "metadata": {
  "kernelspec": {
   "display_name": "Python 3 (ipykernel)",
   "language": "python",
   "name": "python3"
  },
  "language_info": {
   "codemirror_mode": {
    "name": "ipython",
    "version": 3
   },
   "file_extension": ".py",
   "mimetype": "text/x-python",
   "name": "python",
   "nbconvert_exporter": "python",
   "pygments_lexer": "ipython3",
   "version": "3.8.2"
  }
 },
 "nbformat": 4,
 "nbformat_minor": 5
}
