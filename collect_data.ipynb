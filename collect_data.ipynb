{
 "cells": [
  {
   "cell_type": "code",
   "execution_count": 1,
   "metadata": {},
   "outputs": [
    {
     "name": "stderr",
     "output_type": "stream",
     "text": [
      "/Users/honzapulpan/.pyenv/versions/3.6.4/envs/jupyter/lib/python3.6/site-packages/pandas/compat/__init__.py:117: UserWarning: Could not import the lzma module. Your installed Python is incomplete. Attempting to use lzma compression will result in a RuntimeError.\n",
      "  warnings.warn(msg)\n"
     ]
    }
   ],
   "source": [
    "import pandas as pd\n",
    "#import matplotlib.pyplot as plt\n",
    "#import numpy as np\n",
    "import urllib.request\n",
    "import json\n",
    "from datetime import date"
   ]
  },
  {
   "cell_type": "code",
   "execution_count": 5,
   "metadata": {},
   "outputs": [],
   "source": [
    "with urllib.request.urlopen(\"https://api.apify.com/v2/key-value-stores/K373S4uCFR9W1K8ei/records/LATEST?disableRedirect=true\") as url:\n",
    "    data = json.loads(url.read().decode())"
   ]
  },
  {
   "cell_type": "code",
   "execution_count": 31,
   "metadata": {},
   "outputs": [],
   "source": [
    "with urllib.request.urlopen(\"https://onemocneni-aktualne.mzcr.cz/api/v1/covid-19/testy.json\") as url:\n",
    "    numberOfTested_json = json.loads(url.read().decode())\n",
    "    numberOfTested = pd.DataFrame(numberOfTested_json['data'])\n",
    "    numberOfTested['datum'] = pd.to_datetime(numberOfTested['datum'], errors='coerce')    \n",
    "    numberOfTested.to_csv('tested-'+numberOfTested_json['data'][-1]['datum']+'.csv', index=False)"
   ]
  },
  {
   "cell_type": "code",
   "execution_count": 32,
   "metadata": {},
   "outputs": [],
   "source": [
    "with urllib.request.urlopen(\"https://onemocneni-aktualne.mzcr.cz/api/v1/covid-19/nakaza.json\") as url:\n",
    "    totalPositiveTests_json = json.loads(url.read().decode())\n",
    "    totalPositiveTests = pd.DataFrame(totalPositiveTests_json)\n",
    "    totalPositiveTests['datum'] = pd.to_datetime(totalPositiveTests['datum'], errors='coerce')    \n",
    "    totalPositiveTests.to_csv('positive-'+totalPositiveTests_json[-1]['datum']+'.csv', index=False)    "
   ]
  },
  {
   "cell_type": "code",
   "execution_count": 41,
   "metadata": {},
   "outputs": [],
   "source": [
    "with urllib.request.urlopen(\"https://onemocneni-aktualne.mzcr.cz/api/v1/covid-19/osoby.json\") as url:\n",
    "    positiveTests_json = json.loads(url.read().decode())\n",
    "    positiveTests = pd.DataFrame(positiveTests_json)\n",
    "    positiveTests['DatumHlaseni'] = pd.to_datetime(positiveTests['DatumHlaseni'], errors='coerce')    \n",
    "    positiveTests.to_csv('persons-'+str(max(positiveTests['DatumHlaseni'].dt.date))+'.csv', index=False)    \n",
    "    #display(positiveTests.tail())\n",
    "    #display()"
   ]
  },
  {
   "cell_type": "code",
   "execution_count": 6,
   "metadata": {},
   "outputs": [
    {
     "name": "stdout",
     "output_type": "stream",
     "text": [
      "append\n"
     ]
    },
    {
     "data": {
      "text/html": [
       "<div>\n",
       "<style scoped>\n",
       "    .dataframe tbody tr th:only-of-type {\n",
       "        vertical-align: middle;\n",
       "    }\n",
       "\n",
       "    .dataframe tbody tr th {\n",
       "        vertical-align: top;\n",
       "    }\n",
       "\n",
       "    .dataframe thead th {\n",
       "        text-align: right;\n",
       "    }\n",
       "</style>\n",
       "<table border=\"1\" class=\"dataframe\">\n",
       "  <thead>\n",
       "    <tr style=\"text-align: right;\">\n",
       "      <th></th>\n",
       "      <th>date</th>\n",
       "      <th>totalTested</th>\n",
       "      <th>tested</th>\n",
       "      <th>totalInfected</th>\n",
       "      <th>infected</th>\n",
       "      <th>totalRecovered</th>\n",
       "      <th>recovered</th>\n",
       "      <th>totalDeceased</th>\n",
       "      <th>deceased</th>\n",
       "    </tr>\n",
       "  </thead>\n",
       "  <tbody>\n",
       "    <tr>\n",
       "      <th>0</th>\n",
       "      <td>2020-03-26</td>\n",
       "      <td>31127</td>\n",
       "      <td>4429</td>\n",
       "      <td>2022</td>\n",
       "      <td>259</td>\n",
       "      <td>10</td>\n",
       "      <td>2</td>\n",
       "      <td>9</td>\n",
       "      <td>3</td>\n",
       "    </tr>\n",
       "    <tr>\n",
       "      <th>1</th>\n",
       "      <td>2020-03-27</td>\n",
       "      <td>36374</td>\n",
       "      <td>5247</td>\n",
       "      <td>2395</td>\n",
       "      <td>373</td>\n",
       "      <td>11</td>\n",
       "      <td>1</td>\n",
       "      <td>9</td>\n",
       "      <td>0</td>\n",
       "    </tr>\n",
       "    <tr>\n",
       "      <th>2</th>\n",
       "      <td>2020-03-28</td>\n",
       "      <td>40700</td>\n",
       "      <td>4326</td>\n",
       "      <td>2657</td>\n",
       "      <td>262</td>\n",
       "      <td>11</td>\n",
       "      <td>0</td>\n",
       "      <td>11</td>\n",
       "      <td>2</td>\n",
       "    </tr>\n",
       "    <tr>\n",
       "      <th>3</th>\n",
       "      <td>2020-03-29</td>\n",
       "      <td>40700</td>\n",
       "      <td>0</td>\n",
       "      <td>2775</td>\n",
       "      <td>118</td>\n",
       "      <td>11</td>\n",
       "      <td>0</td>\n",
       "      <td>16</td>\n",
       "      <td>5</td>\n",
       "    </tr>\n",
       "    <tr>\n",
       "      <th>4</th>\n",
       "      <td>2020-03-30</td>\n",
       "      <td>43498</td>\n",
       "      <td>2798</td>\n",
       "      <td>2837</td>\n",
       "      <td>62</td>\n",
       "      <td>11</td>\n",
       "      <td>0</td>\n",
       "      <td>17</td>\n",
       "      <td>1</td>\n",
       "    </tr>\n",
       "  </tbody>\n",
       "</table>\n",
       "</div>"
      ],
      "text/plain": [
       "         date  totalTested  tested  totalInfected  infected  totalRecovered  \\\n",
       "0  2020-03-26        31127    4429           2022       259              10   \n",
       "1  2020-03-27        36374    5247           2395       373              11   \n",
       "2  2020-03-28        40700    4326           2657       262              11   \n",
       "3  2020-03-29        40700       0           2775       118              11   \n",
       "4  2020-03-30        43498    2798           2837        62              11   \n",
       "\n",
       "   recovered  totalDeceased  deceased  \n",
       "0          2              9         3  \n",
       "1          1              9         0  \n",
       "2          0             11         2  \n",
       "3          0             16         5  \n",
       "4          0             17         1  "
      ]
     },
     "metadata": {},
     "output_type": "display_data"
    }
   ],
   "source": [
    "#TODO\n",
    "# - upravit tak, aby pracovalo skutečně s datumem. Zatim handluju today jako string\n",
    "\n",
    "# možná přidávat i absolutní čísla a ty daily přepočítat až na konci pro celej dataset \n",
    "# (kvůli tomu, ž datumy nemusí být vždy v řadě)\n",
    "\n",
    "daily_data = pd.read_csv('daily_data.csv')\n",
    "#display(daily_data)\n",
    "\n",
    "today = date.today()\n",
    "fi = daily_data.index[daily_data['date'] == str(today)]\n",
    "\n",
    "if len(fi.tolist()):\n",
    "    print('update')\n",
    "    daily_data.loc[fi, \n",
    "           ['totalTested',\n",
    "            'tested',\n",
    "            'totalInfected',\n",
    "            'infected',\n",
    "            'totalRecovered',\n",
    "            'recovered',\n",
    "            'totalDeceased',\n",
    "            'deceased']] = data['totalTested'],\\\n",
    "                           data['totalTested'] - daily_data['totalTested'].loc[fi-1],\\\n",
    "                           data['infected'],\\\n",
    "                           data['infected'] - daily_data['totalInfected'].loc[fi-1],\\\n",
    "                           data['recovered'],\\\n",
    "                           data['recovered'] - daily_data['totalRecovered'].loc[fi-1],\\\n",
    "                           data['deceased'],\\\n",
    "                           data['deceased'] - daily_data['totalDeceased'].loc[fi-1]\n",
    "else:\n",
    "    print('append')\n",
    "    daily_data = daily_data.append({'date': today,\n",
    "                                    'totalTested': data['totalTested'],\n",
    "                                    'tested': data['totalTested'] - daily_data['totalTested'].iloc[-1],\n",
    "                                    'totalInfected': data['infected'],\n",
    "                                    'infected': data['infected'] - daily_data['totalInfected'].iloc[-1],                                    \n",
    "                                    'totalRecovered': data['recovered'],\n",
    "                                    'recovered': data['recovered'] - daily_data['totalRecovered'].iloc[-1],\n",
    "                                    'totalDeceased': data['deceased'],\n",
    "                                    'deceased': data['deceased'] - daily_data['totalDeceased'].iloc[-1]},\n",
    "                                    ignore_index=True)                                                                                          \n",
    "daily_data.to_csv('daily_data.csv', index=False)\n",
    "display(daily_data)"
   ]
  },
  {
   "cell_type": "code",
   "execution_count": null,
   "metadata": {},
   "outputs": [],
   "source": []
  }
 ],
 "metadata": {
  "kernelspec": {
   "display_name": "Python 3",
   "language": "python",
   "name": "python3"
  },
  "language_info": {
   "codemirror_mode": {
    "name": "ipython",
    "version": 3
   },
   "file_extension": ".py",
   "mimetype": "text/x-python",
   "name": "python",
   "nbconvert_exporter": "python",
   "pygments_lexer": "ipython3",
   "version": "3.6.4"
  }
 },
 "nbformat": 4,
 "nbformat_minor": 4
}
